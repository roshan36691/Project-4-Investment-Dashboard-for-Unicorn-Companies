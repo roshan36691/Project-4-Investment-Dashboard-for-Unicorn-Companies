{
 "cells": [
  {
   "cell_type": "markdown",
   "id": "bd30d6dc",
   "metadata": {},
   "source": [
    "# Data Visualisation - Unicorn Companies"
   ]
  },
  {
   "cell_type": "markdown",
   "id": "8326c65f",
   "metadata": {},
   "source": [
    "## Importing Libraries"
   ]
  },
  {
   "cell_type": "code",
   "execution_count": 1,
   "id": "afcc333e",
   "metadata": {},
   "outputs": [],
   "source": [
    "import numpy as np \n",
    "import pandas as pd \n",
    "import matplotlib.pyplot as plt"
   ]
  },
  {
   "cell_type": "code",
   "execution_count": 2,
   "id": "d0abaa92",
   "metadata": {},
   "outputs": [
    {
     "data": {
      "text/html": [
       "<div>\n",
       "<style scoped>\n",
       "    .dataframe tbody tr th:only-of-type {\n",
       "        vertical-align: middle;\n",
       "    }\n",
       "\n",
       "    .dataframe tbody tr th {\n",
       "        vertical-align: top;\n",
       "    }\n",
       "\n",
       "    .dataframe thead th {\n",
       "        text-align: right;\n",
       "    }\n",
       "</style>\n",
       "<table border=\"1\" class=\"dataframe\">\n",
       "  <thead>\n",
       "    <tr style=\"text-align: right;\">\n",
       "      <th></th>\n",
       "      <th>Company</th>\n",
       "      <th>Valuation</th>\n",
       "      <th>Date Joined</th>\n",
       "      <th>Industry</th>\n",
       "      <th>City</th>\n",
       "      <th>Country</th>\n",
       "      <th>Continent</th>\n",
       "      <th>Year Founded</th>\n",
       "      <th>Funding</th>\n",
       "      <th>Select Investors</th>\n",
       "    </tr>\n",
       "  </thead>\n",
       "  <tbody>\n",
       "    <tr>\n",
       "      <th>0</th>\n",
       "      <td>Bytedance</td>\n",
       "      <td>$180B</td>\n",
       "      <td>2017-04-07</td>\n",
       "      <td>Artificial intelligence</td>\n",
       "      <td>Beijing</td>\n",
       "      <td>China</td>\n",
       "      <td>Asia</td>\n",
       "      <td>2012</td>\n",
       "      <td>$8B</td>\n",
       "      <td>Sequoia Capital China, SIG Asia Investments, S...</td>\n",
       "    </tr>\n",
       "    <tr>\n",
       "      <th>1</th>\n",
       "      <td>SpaceX</td>\n",
       "      <td>$100B</td>\n",
       "      <td>2012-12-01</td>\n",
       "      <td>Other</td>\n",
       "      <td>Hawthorne</td>\n",
       "      <td>United States</td>\n",
       "      <td>North America</td>\n",
       "      <td>2002</td>\n",
       "      <td>$7B</td>\n",
       "      <td>Founders Fund, Draper Fisher Jurvetson, Rothen...</td>\n",
       "    </tr>\n",
       "    <tr>\n",
       "      <th>2</th>\n",
       "      <td>SHEIN</td>\n",
       "      <td>$100B</td>\n",
       "      <td>2018-07-03</td>\n",
       "      <td>E-commerce &amp; direct-to-consumer</td>\n",
       "      <td>Shenzhen</td>\n",
       "      <td>China</td>\n",
       "      <td>Asia</td>\n",
       "      <td>2008</td>\n",
       "      <td>$2B</td>\n",
       "      <td>Tiger Global Management, Sequoia Capital China...</td>\n",
       "    </tr>\n",
       "  </tbody>\n",
       "</table>\n",
       "</div>"
      ],
      "text/plain": [
       "     Company Valuation Date Joined                         Industry  \\\n",
       "0  Bytedance     $180B  2017-04-07          Artificial intelligence   \n",
       "1     SpaceX     $100B  2012-12-01                            Other   \n",
       "2      SHEIN     $100B  2018-07-03  E-commerce & direct-to-consumer   \n",
       "\n",
       "        City        Country      Continent  Year Founded Funding  \\\n",
       "0    Beijing          China           Asia          2012     $8B   \n",
       "1  Hawthorne  United States  North America          2002     $7B   \n",
       "2   Shenzhen          China           Asia          2008     $2B   \n",
       "\n",
       "                                    Select Investors  \n",
       "0  Sequoia Capital China, SIG Asia Investments, S...  \n",
       "1  Founders Fund, Draper Fisher Jurvetson, Rothen...  \n",
       "2  Tiger Global Management, Sequoia Capital China...  "
      ]
     },
     "execution_count": 2,
     "metadata": {},
     "output_type": "execute_result"
    }
   ],
   "source": [
    "df = pd.read_csv(\"/Users/roshanchandru/Desktop/DataVisulaisation_project/Unicorn_Companies.csv\")\n",
    "df.head(3)"
   ]
  },
  {
   "cell_type": "code",
   "execution_count": 3,
   "id": "9ba86584",
   "metadata": {},
   "outputs": [
    {
     "data": {
      "text/plain": [
       "Company             object\n",
       "Valuation           object\n",
       "Date Joined         object\n",
       "Industry            object\n",
       "City                object\n",
       "Country             object\n",
       "Continent           object\n",
       "Year Founded         int64\n",
       "Funding             object\n",
       "Select Investors    object\n",
       "dtype: object"
      ]
     },
     "execution_count": 3,
     "metadata": {},
     "output_type": "execute_result"
    }
   ],
   "source": [
    "df.dtypes"
   ]
  },
  {
   "cell_type": "markdown",
   "id": "93a1a01d",
   "metadata": {},
   "source": [
    "## Details of the dataset:\n",
    "- Company (object): The name of the company.\n",
    "- Valuation (object): The valuation of the company in USD.\n",
    "- Date Joined (object): The date the company joined the unicorn list.\n",
    "- Industry (object): The industry sector the company operates in.\n",
    "- City (object): The city where the company is headquartered.\n",
    "- Country (object): The country where the company is located.\n",
    "- Continent (object): The continent where the company is located.\n",
    "- Year Founded (int64): The year the company was founded.\n",
    "- Funding (object): The total funding received by the company in USD.\n",
    "- Select Investors (object): Key investors in the company."
   ]
  },
  {
   "cell_type": "code",
   "execution_count": 4,
   "id": "4169416c",
   "metadata": {},
   "outputs": [
    {
     "data": {
      "text/plain": [
       "(1074, 10)"
      ]
     },
     "execution_count": 4,
     "metadata": {},
     "output_type": "execute_result"
    }
   ],
   "source": [
    "df.shape"
   ]
  },
  {
   "cell_type": "code",
   "execution_count": 5,
   "id": "d3c9609d",
   "metadata": {},
   "outputs": [
    {
     "data": {
      "text/html": [
       "<div>\n",
       "<style scoped>\n",
       "    .dataframe tbody tr th:only-of-type {\n",
       "        vertical-align: middle;\n",
       "    }\n",
       "\n",
       "    .dataframe tbody tr th {\n",
       "        vertical-align: top;\n",
       "    }\n",
       "\n",
       "    .dataframe thead th {\n",
       "        text-align: right;\n",
       "    }\n",
       "</style>\n",
       "<table border=\"1\" class=\"dataframe\">\n",
       "  <thead>\n",
       "    <tr style=\"text-align: right;\">\n",
       "      <th></th>\n",
       "      <th>Year Founded</th>\n",
       "    </tr>\n",
       "  </thead>\n",
       "  <tbody>\n",
       "    <tr>\n",
       "      <th>count</th>\n",
       "      <td>1074.000000</td>\n",
       "    </tr>\n",
       "    <tr>\n",
       "      <th>mean</th>\n",
       "      <td>2012.895717</td>\n",
       "    </tr>\n",
       "    <tr>\n",
       "      <th>std</th>\n",
       "      <td>5.698573</td>\n",
       "    </tr>\n",
       "    <tr>\n",
       "      <th>min</th>\n",
       "      <td>1919.000000</td>\n",
       "    </tr>\n",
       "    <tr>\n",
       "      <th>25%</th>\n",
       "      <td>2011.000000</td>\n",
       "    </tr>\n",
       "    <tr>\n",
       "      <th>50%</th>\n",
       "      <td>2014.000000</td>\n",
       "    </tr>\n",
       "    <tr>\n",
       "      <th>75%</th>\n",
       "      <td>2016.000000</td>\n",
       "    </tr>\n",
       "    <tr>\n",
       "      <th>max</th>\n",
       "      <td>2021.000000</td>\n",
       "    </tr>\n",
       "  </tbody>\n",
       "</table>\n",
       "</div>"
      ],
      "text/plain": [
       "       Year Founded\n",
       "count   1074.000000\n",
       "mean    2012.895717\n",
       "std        5.698573\n",
       "min     1919.000000\n",
       "25%     2011.000000\n",
       "50%     2014.000000\n",
       "75%     2016.000000\n",
       "max     2021.000000"
      ]
     },
     "execution_count": 5,
     "metadata": {},
     "output_type": "execute_result"
    }
   ],
   "source": [
    "df.describe()"
   ]
  },
  {
   "cell_type": "markdown",
   "id": "d525e96b",
   "metadata": {},
   "source": [
    "## Data Cleaning"
   ]
  },
  {
   "cell_type": "code",
   "execution_count": 6,
   "id": "4e69b761",
   "metadata": {},
   "outputs": [
    {
     "data": {
      "text/plain": [
       "17"
      ]
     },
     "execution_count": 6,
     "metadata": {},
     "output_type": "execute_result"
    }
   ],
   "source": [
    "df.isnull().values.sum()"
   ]
  },
  {
   "cell_type": "code",
   "execution_count": 7,
   "id": "9a3cc94a",
   "metadata": {},
   "outputs": [
    {
     "data": {
      "text/plain": [
       "0    False\n",
       "1    False\n",
       "2    False\n",
       "3    False\n",
       "4    False\n",
       "dtype: bool"
      ]
     },
     "execution_count": 7,
     "metadata": {},
     "output_type": "execute_result"
    }
   ],
   "source": [
    "df.duplicated().head()"
   ]
  },
  {
   "cell_type": "markdown",
   "id": "8599c370",
   "metadata": {},
   "source": [
    "### Impute missing values for 'City' and 'Select Investors' with placeholders"
   ]
  },
  {
   "cell_type": "code",
   "execution_count": 8,
   "id": "0d5aa0c0",
   "metadata": {},
   "outputs": [],
   "source": [
    "df['City'].fillna('Unknown', inplace=True)\n",
    "df['Select Investors'].fillna('Not Available', inplace=True)"
   ]
  },
  {
   "cell_type": "markdown",
   "id": "8f522413",
   "metadata": {},
   "source": [
    "### Convert 'Date Joined' to datetime format"
   ]
  },
  {
   "cell_type": "code",
   "execution_count": 9,
   "id": "f5c32019",
   "metadata": {},
   "outputs": [],
   "source": [
    "df['Date Joined'] = pd.to_datetime(df['Date Joined'])"
   ]
  },
  {
   "cell_type": "markdown",
   "id": "f53440f4",
   "metadata": {},
   "source": [
    "### Identify and remove duplicate rows"
   ]
  },
  {
   "cell_type": "code",
   "execution_count": 10,
   "id": "f3d69cf3",
   "metadata": {},
   "outputs": [],
   "source": [
    "data_before = len(df)\n",
    "df.drop_duplicates(inplace=True)\n",
    "data_after = len(df)"
   ]
  },
  {
   "cell_type": "markdown",
   "id": "d5bc28d8",
   "metadata": {},
   "source": [
    "### Display the first few rows of the cleaned dataset and the change in dataset size due to duplicate removal"
   ]
  },
  {
   "cell_type": "code",
   "execution_count": 11,
   "id": "a54078ab",
   "metadata": {},
   "outputs": [
    {
     "name": "stdout",
     "output_type": "stream",
     "text": [
      "     Company Valuation Date Joined                         Industry  \\\n",
      "0  Bytedance     $180B  2017-04-07          Artificial intelligence   \n",
      "1     SpaceX     $100B  2012-12-01                            Other   \n",
      "2      SHEIN     $100B  2018-07-03  E-commerce & direct-to-consumer   \n",
      "3     Stripe      $95B  2014-01-23                          Fintech   \n",
      "4     Klarna      $46B  2011-12-12                          Fintech   \n",
      "\n",
      "            City        Country      Continent  Year Founded Funding  \\\n",
      "0        Beijing          China           Asia          2012     $8B   \n",
      "1      Hawthorne  United States  North America          2002     $7B   \n",
      "2       Shenzhen          China           Asia          2008     $2B   \n",
      "3  San Francisco  United States  North America          2010     $2B   \n",
      "4      Stockholm         Sweden         Europe          2005     $4B   \n",
      "\n",
      "                                    Select Investors  \n",
      "0  Sequoia Capital China, SIG Asia Investments, S...  \n",
      "1  Founders Fund, Draper Fisher Jurvetson, Rothen...  \n",
      "2  Tiger Global Management, Sequoia Capital China...  \n",
      "3        Khosla Ventures, LowercaseCapital, capitalG  \n",
      "4  Institutional Venture Partners, Sequoia Capita...  \n",
      "Duplicates Removed: 0\n"
     ]
    }
   ],
   "source": [
    "print(df.head())\n",
    "print(f'Duplicates Removed: {data_before - data_after}')"
   ]
  },
  {
   "cell_type": "code",
   "execution_count": 12,
   "id": "fd098ece",
   "metadata": {},
   "outputs": [
    {
     "data": {
      "text/plain": [
       "0"
      ]
     },
     "execution_count": 12,
     "metadata": {},
     "output_type": "execute_result"
    }
   ],
   "source": [
    "df.isnull().values.sum()"
   ]
  },
  {
   "cell_type": "code",
   "execution_count": 13,
   "id": "98c33680",
   "metadata": {},
   "outputs": [
    {
     "data": {
      "text/plain": [
       "(1074, 10)"
      ]
     },
     "execution_count": 13,
     "metadata": {},
     "output_type": "execute_result"
    }
   ],
   "source": [
    "df.shape"
   ]
  },
  {
   "cell_type": "markdown",
   "id": "be6a8e4b",
   "metadata": {},
   "source": [
    "## Creating new Dataset analyse the most active Investor"
   ]
  },
  {
   "cell_type": "code",
   "execution_count": 17,
   "id": "cec36e78",
   "metadata": {},
   "outputs": [
    {
     "name": "stdout",
     "output_type": "stream",
     "text": [
      "                      Investor  Frequency\n",
      "0                        Accel         60\n",
      "1      Tiger Global Management         53\n",
      "2          Andreessen Horowitz         53\n",
      "3        Sequoia Capital China         48\n",
      "4             Insight Partners         47\n",
      "5              Sequoia Capital         47\n",
      "6  Lightspeed Venture Partners         34\n",
      "7               SoftBank Group         34\n",
      "8             General Catalyst         33\n",
      "9               Index Ventures         32\n"
     ]
    }
   ],
   "source": [
    "import pandas as pd\n",
    "\n",
    "def main():\n",
    "    investor_list = df['Select Investors'].str.split(', ').explode()\n",
    "    investor_counts = investor_list.value_counts()\n",
    "    investor_frequency_df = pd.DataFrame(investor_counts.items(), columns=['Investor', 'Frequency']).sort_values(by='Frequency', ascending=False).reset_index(drop=True)\n",
    "    print(investor_frequency_df.head(10))\n",
    "if __name__ == '__main__':\n",
    "    main()"
   ]
  },
  {
   "cell_type": "markdown",
   "id": "c57cf087",
   "metadata": {},
   "source": [
    "### Removing 'dollar' and 'B' and creating new column as Valuation (in million dollars)"
   ]
  },
  {
   "cell_type": "code",
   "execution_count": 20,
   "id": "d692fd44",
   "metadata": {},
   "outputs": [
    {
     "data": {
      "text/html": [
       "<div>\n",
       "<style scoped>\n",
       "    .dataframe tbody tr th:only-of-type {\n",
       "        vertical-align: middle;\n",
       "    }\n",
       "\n",
       "    .dataframe tbody tr th {\n",
       "        vertical-align: top;\n",
       "    }\n",
       "\n",
       "    .dataframe thead th {\n",
       "        text-align: right;\n",
       "    }\n",
       "</style>\n",
       "<table border=\"1\" class=\"dataframe\">\n",
       "  <thead>\n",
       "    <tr style=\"text-align: right;\">\n",
       "      <th></th>\n",
       "      <th>Company</th>\n",
       "      <th>Valuation</th>\n",
       "      <th>Valuation (in $M)</th>\n",
       "      <th>Date Joined</th>\n",
       "    </tr>\n",
       "  </thead>\n",
       "  <tbody>\n",
       "    <tr>\n",
       "      <th>0</th>\n",
       "      <td>Bytedance</td>\n",
       "      <td>$180B</td>\n",
       "      <td>180000.0</td>\n",
       "      <td>2017-04-07</td>\n",
       "    </tr>\n",
       "    <tr>\n",
       "      <th>1</th>\n",
       "      <td>SpaceX</td>\n",
       "      <td>$100B</td>\n",
       "      <td>100000.0</td>\n",
       "      <td>2012-12-01</td>\n",
       "    </tr>\n",
       "    <tr>\n",
       "      <th>2</th>\n",
       "      <td>SHEIN</td>\n",
       "      <td>$100B</td>\n",
       "      <td>100000.0</td>\n",
       "      <td>2018-07-03</td>\n",
       "    </tr>\n",
       "    <tr>\n",
       "      <th>3</th>\n",
       "      <td>Stripe</td>\n",
       "      <td>$95B</td>\n",
       "      <td>95000.0</td>\n",
       "      <td>2014-01-23</td>\n",
       "    </tr>\n",
       "    <tr>\n",
       "      <th>4</th>\n",
       "      <td>Klarna</td>\n",
       "      <td>$46B</td>\n",
       "      <td>46000.0</td>\n",
       "      <td>2011-12-12</td>\n",
       "    </tr>\n",
       "  </tbody>\n",
       "</table>\n",
       "</div>"
      ],
      "text/plain": [
       "     Company Valuation  Valuation (in $M) Date Joined\n",
       "0  Bytedance     $180B           180000.0  2017-04-07\n",
       "1     SpaceX     $100B           100000.0  2012-12-01\n",
       "2      SHEIN     $100B           100000.0  2018-07-03\n",
       "3     Stripe      $95B            95000.0  2014-01-23\n",
       "4     Klarna      $46B            46000.0  2011-12-12"
      ]
     },
     "execution_count": 20,
     "metadata": {},
     "output_type": "execute_result"
    }
   ],
   "source": [
    "def convert_valuation_to_millions(valuation):\n",
    "    if pd.isnull(valuation):\n",
    "        return None\n",
    "    valuation = valuation.upper().replace('$', '')\n",
    "    if 'B' in valuation:\n",
    "        return float(valuation.replace('B', '')) * 1000  # Convert billion to million\n",
    "    elif 'M' in valuation:\n",
    "        return float(valuation.replace('M', ''))\n",
    "    else:\n",
    "        return float(valuation)\n",
    "\n",
    "df['Valuation (in $M)'] = df['Valuation'].apply(convert_valuation_to_millions)\n",
    "df['Date Joined'] = pd.to_datetime(df['Date Joined'], format='%Y-%m-%d')\n",
    "df[['Company', 'Valuation', 'Valuation (in $M)', 'Date Joined']].head()"
   ]
  },
  {
   "cell_type": "markdown",
   "id": "524d15a6",
   "metadata": {},
   "source": [
    "### Extract year from \"Date Joined\" column and add a new column \"Year Joined\""
   ]
  },
  {
   "cell_type": "code",
   "execution_count": 21,
   "id": "082a87d1",
   "metadata": {},
   "outputs": [],
   "source": [
    "df['Year Joined'] = pd.to_datetime(df['Date Joined']).dt.year"
   ]
  },
  {
   "cell_type": "code",
   "execution_count": 22,
   "id": "ca87830f",
   "metadata": {},
   "outputs": [
    {
     "data": {
      "text/html": [
       "<div>\n",
       "<style scoped>\n",
       "    .dataframe tbody tr th:only-of-type {\n",
       "        vertical-align: middle;\n",
       "    }\n",
       "\n",
       "    .dataframe tbody tr th {\n",
       "        vertical-align: top;\n",
       "    }\n",
       "\n",
       "    .dataframe thead th {\n",
       "        text-align: right;\n",
       "    }\n",
       "</style>\n",
       "<table border=\"1\" class=\"dataframe\">\n",
       "  <thead>\n",
       "    <tr style=\"text-align: right;\">\n",
       "      <th></th>\n",
       "      <th>Company</th>\n",
       "      <th>Valuation</th>\n",
       "      <th>Date Joined</th>\n",
       "      <th>Industry</th>\n",
       "      <th>City</th>\n",
       "      <th>Country</th>\n",
       "      <th>Continent</th>\n",
       "      <th>Year Founded</th>\n",
       "      <th>Funding</th>\n",
       "      <th>Select Investors</th>\n",
       "      <th>Valuation (in $M)</th>\n",
       "      <th>Year Joined</th>\n",
       "    </tr>\n",
       "  </thead>\n",
       "  <tbody>\n",
       "    <tr>\n",
       "      <th>0</th>\n",
       "      <td>Bytedance</td>\n",
       "      <td>$180B</td>\n",
       "      <td>2017-04-07</td>\n",
       "      <td>Artificial intelligence</td>\n",
       "      <td>Beijing</td>\n",
       "      <td>China</td>\n",
       "      <td>Asia</td>\n",
       "      <td>2012</td>\n",
       "      <td>$8B</td>\n",
       "      <td>Sequoia Capital China, SIG Asia Investments, S...</td>\n",
       "      <td>180000.0</td>\n",
       "      <td>2017</td>\n",
       "    </tr>\n",
       "    <tr>\n",
       "      <th>1</th>\n",
       "      <td>SpaceX</td>\n",
       "      <td>$100B</td>\n",
       "      <td>2012-12-01</td>\n",
       "      <td>Other</td>\n",
       "      <td>Hawthorne</td>\n",
       "      <td>United States</td>\n",
       "      <td>North America</td>\n",
       "      <td>2002</td>\n",
       "      <td>$7B</td>\n",
       "      <td>Founders Fund, Draper Fisher Jurvetson, Rothen...</td>\n",
       "      <td>100000.0</td>\n",
       "      <td>2012</td>\n",
       "    </tr>\n",
       "    <tr>\n",
       "      <th>2</th>\n",
       "      <td>SHEIN</td>\n",
       "      <td>$100B</td>\n",
       "      <td>2018-07-03</td>\n",
       "      <td>E-commerce &amp; direct-to-consumer</td>\n",
       "      <td>Shenzhen</td>\n",
       "      <td>China</td>\n",
       "      <td>Asia</td>\n",
       "      <td>2008</td>\n",
       "      <td>$2B</td>\n",
       "      <td>Tiger Global Management, Sequoia Capital China...</td>\n",
       "      <td>100000.0</td>\n",
       "      <td>2018</td>\n",
       "    </tr>\n",
       "  </tbody>\n",
       "</table>\n",
       "</div>"
      ],
      "text/plain": [
       "     Company Valuation Date Joined                         Industry  \\\n",
       "0  Bytedance     $180B  2017-04-07          Artificial intelligence   \n",
       "1     SpaceX     $100B  2012-12-01                            Other   \n",
       "2      SHEIN     $100B  2018-07-03  E-commerce & direct-to-consumer   \n",
       "\n",
       "        City        Country      Continent  Year Founded Funding  \\\n",
       "0    Beijing          China           Asia          2012     $8B   \n",
       "1  Hawthorne  United States  North America          2002     $7B   \n",
       "2   Shenzhen          China           Asia          2008     $2B   \n",
       "\n",
       "                                    Select Investors  Valuation (in $M)  \\\n",
       "0  Sequoia Capital China, SIG Asia Investments, S...           180000.0   \n",
       "1  Founders Fund, Draper Fisher Jurvetson, Rothen...           100000.0   \n",
       "2  Tiger Global Management, Sequoia Capital China...           100000.0   \n",
       "\n",
       "   Year Joined  \n",
       "0         2017  \n",
       "1         2012  \n",
       "2         2018  "
      ]
     },
     "execution_count": 22,
     "metadata": {},
     "output_type": "execute_result"
    }
   ],
   "source": [
    "df.head(3)"
   ]
  }
 ],
 "metadata": {
  "kernelspec": {
   "display_name": "Python 3 (ipykernel)",
   "language": "python",
   "name": "python3"
  },
  "language_info": {
   "codemirror_mode": {
    "name": "ipython",
    "version": 3
   },
   "file_extension": ".py",
   "mimetype": "text/x-python",
   "name": "python",
   "nbconvert_exporter": "python",
   "pygments_lexer": "ipython3",
   "version": "3.11.5"
  }
 },
 "nbformat": 4,
 "nbformat_minor": 5
}
